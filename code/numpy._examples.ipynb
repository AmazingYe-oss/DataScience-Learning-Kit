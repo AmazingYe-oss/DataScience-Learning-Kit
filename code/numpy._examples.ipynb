{
 "cells": [
  {
   "cell_type": "code",
   "id": "initial_id",
   "metadata": {
    "collapsed": true,
    "ExecuteTime": {
     "end_time": "2025-07-26T04:24:57.308818Z",
     "start_time": "2025-07-26T04:24:57.115376Z"
    }
   },
   "source": [
    "import numpy as np\n",
    "\n",
    "# 创建ndarray\n",
    "score = np.array(\n",
    "[[80, 89, 86, 67, 79],\n",
    "[78, 97, 89, 67, 81],\n",
    "[90, 94, 78, 67, 74],\n",
    "[91, 91, 90, 67, 69],\n",
    "[76, 87, 75, 67, 86],\n",
    "[70, 79, 84, 67, 84],\n",
    "[94, 92, 93, 67, 64],\n",
    "[86, 85, 83, 67, 80]])\n",
    "\n",
    "score"
   ],
   "outputs": [
    {
     "data": {
      "text/plain": [
       "array([[80, 89, 86, 67, 79],\n",
       "       [78, 97, 89, 67, 81],\n",
       "       [90, 94, 78, 67, 74],\n",
       "       [91, 91, 90, 67, 69],\n",
       "       [76, 87, 75, 67, 86],\n",
       "       [70, 79, 84, 67, 84],\n",
       "       [94, 92, 93, 67, 64],\n",
       "       [86, 85, 83, 67, 80]])"
      ]
     },
     "execution_count": 1,
     "metadata": {},
     "output_type": "execute_result"
    }
   ],
   "execution_count": 1
  },
  {
   "metadata": {
    "ExecuteTime": {
     "end_time": "2025-07-26T04:25:59.140469Z",
     "start_time": "2025-07-26T04:25:28.135496Z"
    }
   },
   "cell_type": "code",
   "source": [
    "import random\n",
    "import time\n",
    "import numpy as np\n",
    "a = []\n",
    "for i in range(100000000):\n",
    "    a.append(random.random())\n",
    "\n",
    "# 通过%time魔法方法, 查看当前行的代码运行一次所花费的时间\n",
    "%time sum1=sum(a)\n",
    "\n",
    "b=np.array(a)\n",
    "\n",
    "%time sum2=np.sum(b)"
   ],
   "id": "2e884f26fcf8032a",
   "outputs": [
    {
     "name": "stdout",
     "output_type": "stream",
     "text": [
      "CPU times: total: 1.08 s\n",
      "Wall time: 1.08 s\n",
      "CPU times: total: 188 ms\n",
      "Wall time: 182 ms\n"
     ]
    }
   ],
   "execution_count": 2
  },
  {
   "metadata": {
    "ExecuteTime": {
     "end_time": "2025-07-26T04:27:33.473986Z",
     "start_time": "2025-07-26T04:27:31.781880Z"
    }
   },
   "cell_type": "code",
   "source": [
    "# 创建不同形状的数组\n",
    "a = np.array([[1,2,3],[4,5,6]])\n",
    "b = np.array([1,2,3,4])\n",
    "c = np.array([[[1,2,3],[4,5,6]],[[1,2,3],[4,5,6]]])"
   ],
   "id": "c0e3d7ad713cf981",
   "outputs": [],
   "execution_count": 3
  },
  {
   "metadata": {
    "ExecuteTime": {
     "end_time": "2025-07-26T04:28:03.004944Z",
     "start_time": "2025-07-26T04:28:02.994794Z"
    }
   },
   "cell_type": "code",
   "source": [
    "a.shape\n",
    "b.shape\n",
    "c.shape"
   ],
   "id": "ec03cfc189ad418d",
   "outputs": [
    {
     "data": {
      "text/plain": [
       "(2, 2, 3)"
      ]
     },
     "execution_count": 5,
     "metadata": {},
     "output_type": "execute_result"
    }
   ],
   "execution_count": 5
  },
  {
   "metadata": {
    "ExecuteTime": {
     "end_time": "2025-07-26T04:28:48.280071Z",
     "start_time": "2025-07-26T04:28:48.266273Z"
    }
   },
   "cell_type": "code",
   "source": [
    "ones = np.ones([4,8])\n",
    "ones"
   ],
   "id": "a5f2fcf04061f545",
   "outputs": [
    {
     "data": {
      "text/plain": [
       "array([[1., 1., 1., 1., 1., 1., 1., 1.],\n",
       "       [1., 1., 1., 1., 1., 1., 1., 1.],\n",
       "       [1., 1., 1., 1., 1., 1., 1., 1.],\n",
       "       [1., 1., 1., 1., 1., 1., 1., 1.]])"
      ]
     },
     "execution_count": 6,
     "metadata": {},
     "output_type": "execute_result"
    }
   ],
   "execution_count": 6
  },
  {
   "metadata": {
    "ExecuteTime": {
     "end_time": "2025-07-26T04:29:16.849109Z",
     "start_time": "2025-07-26T04:29:16.842720Z"
    }
   },
   "cell_type": "code",
   "source": [
    "a = np.array([[1,2,3],[4,5,6]])\n",
    "# 从现有的数组当中创建\n",
    "a1 = np.array(a)\n",
    "# 相当于索引的形式，并没有真正的创建一个新的\n",
    "a2 = np.asarray(a)"
   ],
   "id": "6cf61ea5169452e6",
   "outputs": [],
   "execution_count": 7
  },
  {
   "metadata": {
    "ExecuteTime": {
     "end_time": "2025-07-26T04:29:58.129537Z",
     "start_time": "2025-07-26T04:29:58.117663Z"
    }
   },
   "cell_type": "code",
   "source": [
    "# 生成等间隔的数组\n",
    "np.linspace(0, 100, 11)"
   ],
   "id": "3080e0a5e5b19352",
   "outputs": [
    {
     "data": {
      "text/plain": [
       "array([  0.,  10.,  20.,  30.,  40.,  50.,  60.,  70.,  80.,  90., 100.])"
      ]
     },
     "execution_count": 8,
     "metadata": {},
     "output_type": "execute_result"
    }
   ],
   "execution_count": 8
  },
  {
   "metadata": {
    "ExecuteTime": {
     "end_time": "2025-07-26T04:30:16.158424Z",
     "start_time": "2025-07-26T04:30:16.151003Z"
    }
   },
   "cell_type": "code",
   "source": "np.arange(10, 50, 2)",
   "id": "4fbd7d558ef19b84",
   "outputs": [
    {
     "data": {
      "text/plain": [
       "array([10, 12, 14, 16, 18, 20, 22, 24, 26, 28, 30, 32, 34, 36, 38, 40, 42,\n",
       "       44, 46, 48])"
      ]
     },
     "execution_count": 9,
     "metadata": {},
     "output_type": "execute_result"
    }
   ],
   "execution_count": 9
  },
  {
   "metadata": {
    "ExecuteTime": {
     "end_time": "2025-07-26T04:30:33.494886Z",
     "start_time": "2025-07-26T04:30:33.484593Z"
    }
   },
   "cell_type": "code",
   "source": [
    "# 生成10^x\n",
    "np.logspace(0, 2, 3)"
   ],
   "id": "ac77b92fb557f272",
   "outputs": [
    {
     "data": {
      "text/plain": [
       "array([  1.,  10., 100.])"
      ]
     },
     "execution_count": 10,
     "metadata": {},
     "output_type": "execute_result"
    }
   ],
   "execution_count": 10
  },
  {
   "metadata": {
    "ExecuteTime": {
     "end_time": "2025-07-26T04:31:08.877696Z",
     "start_time": "2025-07-26T04:31:08.863713Z"
    }
   },
   "cell_type": "code",
   "source": [
    "import numpy as np\n",
    "\n",
    "# 生成一个[0.0, 1.0)之间的均匀分布的随机浮点数\n",
    "rand_num = np.random.rand()\n",
    "print(\"均匀分布的随机浮点数:\", rand_num)\n",
    "\n",
    "# 生成一个形状为(3, 2)的均匀分布的随机浮点数组\n",
    "rand_array = np.random.rand(3, 2)\n",
    "print(\"均匀分布的随机数组:\\n\", rand_array)"
   ],
   "id": "d62a99e703a5ee4",
   "outputs": [
    {
     "name": "stdout",
     "output_type": "stream",
     "text": [
      "均匀分布的随机浮点数: 0.9026860234679022\n",
      "均匀分布的随机数组:\n",
      " [[0.70144563 0.57895531]\n",
      " [0.65255349 0.28818174]\n",
      " [0.32055382 0.75934137]]\n"
     ]
    }
   ],
   "execution_count": 11
  },
  {
   "metadata": {
    "ExecuteTime": {
     "end_time": "2025-07-26T04:31:20.738777Z",
     "start_time": "2025-07-26T04:31:20.724559Z"
    }
   },
   "cell_type": "code",
   "source": [
    "import numpy as np\n",
    "\n",
    "# 生成一个从0到9的随机整数\n",
    "rand_int = np.random.randint(0, 10)\n",
    "print(\"随机整数:\", rand_int)\n",
    "\n",
    "# 生成一个形状为(4, 3)的随机整数数组，范围在[1, 100)之间\n",
    "rand_int_array = np.random.randint(1, 100, size=(4, 3))\n",
    "print(\"随机整数数组:\\n\", rand_int_array)"
   ],
   "id": "8a4d55db918faf11",
   "outputs": [
    {
     "name": "stdout",
     "output_type": "stream",
     "text": [
      "随机整数: 1\n",
      "随机整数数组:\n",
      " [[31 21 20]\n",
      " [19 76 29]\n",
      " [20 62 77]\n",
      " [78 69 78]]\n"
     ]
    }
   ],
   "execution_count": 12
  },
  {
   "metadata": {
    "ExecuteTime": {
     "end_time": "2025-07-26T04:31:48.710961Z",
     "start_time": "2025-07-26T04:31:48.700594Z"
    }
   },
   "cell_type": "code",
   "source": [
    "import numpy as np\n",
    "\n",
    "# 创建一个 2x3 的数组\n",
    "arr = np.array([[1, 2, 3], [4, 5, 6]])\n",
    "\n",
    "# 访问第1行第2列的元素（注意：索引从0开始）\n",
    "element = arr[0, 1]\n",
    "print(\"第1行第2列的元素:\", element)  # 输出: 2\n",
    "\n",
    "# 访问第2行第3列的元素\n",
    "element = arr[1, 2]\n",
    "print(\"第2行第3列的元素:\", element)  # 输出: 6\n"
   ],
   "id": "296442e9d9eda490",
   "outputs": [
    {
     "name": "stdout",
     "output_type": "stream",
     "text": [
      "第1行第2列的元素: 2\n",
      "第2行第3列的元素: 6\n"
     ]
    }
   ],
   "execution_count": 13
  },
  {
   "metadata": {
    "ExecuteTime": {
     "end_time": "2025-07-26T04:33:06.795987Z",
     "start_time": "2025-07-26T04:33:06.782403Z"
    }
   },
   "cell_type": "code",
   "source": [
    "import numpy as np\n",
    "\n",
    "# 创建一个 3x4 的数组\n",
    "arr = np.array([[1, 2, 3, 4],\n",
    "                [5, 6, 7, 8],\n",
    "                [9, 10, 11, 12]])\n",
    "\n",
    "# 提取第1行和第2行的所有列\n",
    "sub_array = arr[0:2, :]\n",
    "print(\"第1行和第2行的所有列:\\n\", sub_array)\n",
    "\n",
    "# 提取第2列和第3列的所有行\n",
    "sub_array = arr[:, 1:3]\n",
    "print(\"第2列和第3列的所有行:\\n\", sub_array)\n",
    "\n",
    "# 提取第1行第2列到第3列的元素\n",
    "sub_array = arr[0, 1:3]\n",
    "print(\"第1行第2列到第3列的元素:\", sub_array)"
   ],
   "id": "fafa9d649df88208",
   "outputs": [
    {
     "name": "stdout",
     "output_type": "stream",
     "text": [
      "第1行和第2行的所有列:\n",
      " [[1 2 3 4]\n",
      " [5 6 7 8]]\n",
      "第2列和第3列的所有行:\n",
      " [[ 2  3]\n",
      " [ 6  7]\n",
      " [10 11]]\n",
      "第1行第2列到第3列的元素: [2 3]\n"
     ]
    }
   ],
   "execution_count": 14
  },
  {
   "metadata": {
    "ExecuteTime": {
     "end_time": "2025-07-26T04:34:21.615277Z",
     "start_time": "2025-07-26T04:34:21.608666Z"
    }
   },
   "cell_type": "code",
   "source": [
    "import numpy as np\n",
    "\n",
    "# 创建一个 1x9 的数组\n",
    "arr = np.array([1, 2, 3, 4, 5, 6, 7, 8, 9])\n",
    "\n",
    "# 将其重新构造成 3x3 的数组\n",
    "reshaped_arr = arr.reshape(3, 3)\n",
    "print(\"原数组:\\n\", arr)\n",
    "print(\"reshape后的数组:\\n\", reshaped_arr)\n"
   ],
   "id": "6b1cb38044db5937",
   "outputs": [
    {
     "name": "stdout",
     "output_type": "stream",
     "text": [
      "原数组:\n",
      " [1 2 3 4 5 6 7 8 9]\n",
      "reshape后的数组:\n",
      " [[1 2 3]\n",
      " [4 5 6]\n",
      " [7 8 9]]\n"
     ]
    }
   ],
   "execution_count": 17
  },
  {
   "metadata": {
    "ExecuteTime": {
     "end_time": "2025-07-26T04:34:41.794026Z",
     "start_time": "2025-07-26T04:34:41.783647Z"
    }
   },
   "cell_type": "code",
   "source": [
    "import numpy as np\n",
    "\n",
    "# 创建一个 1x9 的数组\n",
    "arr = np.array([1, 2, 3, 4, 5, 6, 7, 8, 9])\n",
    "\n",
    "# 调整数组的大小为 2x5\n",
    "resized_arr = np.resize(arr, (2, 5))\n",
    "print(\"原数组:\\n\", arr)\n",
    "print(\"resize后的数组:\\n\", resized_arr)"
   ],
   "id": "25fdc82fff87fac1",
   "outputs": [
    {
     "name": "stdout",
     "output_type": "stream",
     "text": [
      "原数组:\n",
      " [1 2 3 4 5 6 7 8 9]\n",
      "resize后的数组:\n",
      " [[1 2 3 4 5]\n",
      " [6 7 8 9 1]]\n"
     ]
    }
   ],
   "execution_count": 18
  },
  {
   "metadata": {
    "ExecuteTime": {
     "end_time": "2025-07-26T04:34:55.929193Z",
     "start_time": "2025-07-26T04:34:55.919818Z"
    }
   },
   "cell_type": "code",
   "source": [
    "import numpy as np\n",
    "\n",
    "# 创建一个 2x3 的二维数组\n",
    "arr = np.array([[1, 2, 3],\n",
    "                [4, 5, 6]])\n",
    "\n",
    "# 对数组进行转置\n",
    "transposed_arr = arr.T\n",
    "\n",
    "print(\"原始数组:\\n\", arr)\n",
    "print(\"转置后的数组:\\n\", transposed_arr)"
   ],
   "id": "e70db63836d0c1f7",
   "outputs": [
    {
     "name": "stdout",
     "output_type": "stream",
     "text": [
      "原始数组:\n",
      " [[1 2 3]\n",
      " [4 5 6]]\n",
      "转置后的数组:\n",
      " [[1 4]\n",
      " [2 5]\n",
      " [3 6]]\n"
     ]
    }
   ],
   "execution_count": 19
  },
  {
   "metadata": {
    "ExecuteTime": {
     "end_time": "2025-07-26T04:35:07.557200Z",
     "start_time": "2025-07-26T04:35:07.545796Z"
    }
   },
   "cell_type": "code",
   "source": [
    "import numpy as np\n",
    "\n",
    "# 创建一个浮点数类型的数组\n",
    "arr = np.array([1.1, 2.2, 3.3, 4.4, 5.5])\n",
    "\n",
    "# 使用 .astype(np.int32) 将数组的元素类型转换为 int32\n",
    "arr_int32 = arr.astype(np.int32)\n",
    "\n",
    "print(\"原始数组:\", arr)\n",
    "print(\"原始数组的类型:\", arr.dtype)\n",
    "\n",
    "print(\"转换后的数组:\", arr_int32)\n",
    "print(\"转换后的数组类型:\", arr_int32.dtype)"
   ],
   "id": "7036664c74280b0b",
   "outputs": [
    {
     "name": "stdout",
     "output_type": "stream",
     "text": [
      "原始数组: [1.1 2.2 3.3 4.4 5.5]\n",
      "原始数组的类型: float64\n",
      "转换后的数组: [1 2 3 4 5]\n",
      "转换后的数组类型: int32\n"
     ]
    }
   ],
   "execution_count": 20
  },
  {
   "metadata": {
    "ExecuteTime": {
     "end_time": "2025-07-26T04:35:30.302814Z",
     "start_time": "2025-07-26T04:35:30.295506Z"
    }
   },
   "cell_type": "code",
   "source": [
    "arr = np.array([[[1, 2, 3], [4, 5, 6]], [[12, 3, 34], [5, 6, 7]]])\n",
    "arr.tobytes()"
   ],
   "id": "423ffe37f6710355",
   "outputs": [
    {
     "data": {
      "text/plain": [
       "b'\\x01\\x00\\x00\\x00\\x00\\x00\\x00\\x00\\x02\\x00\\x00\\x00\\x00\\x00\\x00\\x00\\x03\\x00\\x00\\x00\\x00\\x00\\x00\\x00\\x04\\x00\\x00\\x00\\x00\\x00\\x00\\x00\\x05\\x00\\x00\\x00\\x00\\x00\\x00\\x00\\x06\\x00\\x00\\x00\\x00\\x00\\x00\\x00\\x0c\\x00\\x00\\x00\\x00\\x00\\x00\\x00\\x03\\x00\\x00\\x00\\x00\\x00\\x00\\x00\"\\x00\\x00\\x00\\x00\\x00\\x00\\x00\\x05\\x00\\x00\\x00\\x00\\x00\\x00\\x00\\x06\\x00\\x00\\x00\\x00\\x00\\x00\\x00\\x07\\x00\\x00\\x00\\x00\\x00\\x00\\x00'"
      ]
     },
     "execution_count": 21,
     "metadata": {},
     "output_type": "execute_result"
    }
   ],
   "execution_count": 21
  },
  {
   "metadata": {
    "ExecuteTime": {
     "end_time": "2025-07-26T04:35:44.072136Z",
     "start_time": "2025-07-26T04:35:44.063651Z"
    }
   },
   "cell_type": "code",
   "source": [
    "temp = np.array([[1, 2, 3, 4],[3, 4, 5, 6]])\n",
    "np.unique(temp)"
   ],
   "id": "abd719b4ca3cd3a2",
   "outputs": [
    {
     "data": {
      "text/plain": [
       "array([1, 2, 3, 4, 5, 6])"
      ]
     },
     "execution_count": 22,
     "metadata": {},
     "output_type": "execute_result"
    }
   ],
   "execution_count": 22
  },
  {
   "metadata": {
    "ExecuteTime": {
     "end_time": "2025-07-26T04:36:08.670324Z",
     "start_time": "2025-07-26T04:36:08.660415Z"
    }
   },
   "cell_type": "code",
   "source": "score = np.random.randint(40, 100, (10, 5))",
   "id": "cc8502b207293bd9",
   "outputs": [],
   "execution_count": 23
  },
  {
   "metadata": {
    "ExecuteTime": {
     "end_time": "2025-07-26T04:36:28.311426Z",
     "start_time": "2025-07-26T04:36:28.304896Z"
    }
   },
   "cell_type": "code",
   "source": "test_score = score[6:, 0:5]",
   "id": "93096ff398a97cf5",
   "outputs": [],
   "execution_count": 24
  },
  {
   "metadata": {
    "ExecuteTime": {
     "end_time": "2025-07-26T04:36:56.248463Z",
     "start_time": "2025-07-26T04:36:56.233861Z"
    }
   },
   "cell_type": "code",
   "source": "test_score > 60",
   "id": "fe312e02f66c0185",
   "outputs": [
    {
     "data": {
      "text/plain": [
       "array([[False,  True,  True,  True, False],\n",
       "       [False, False,  True,  True, False],\n",
       "       [False,  True, False, False, False],\n",
       "       [False,  True,  True,  True,  True]])"
      ]
     },
     "execution_count": 25,
     "metadata": {},
     "output_type": "execute_result"
    }
   ],
   "execution_count": 25
  },
  {
   "metadata": {
    "ExecuteTime": {
     "end_time": "2025-07-26T04:37:20.385270Z",
     "start_time": "2025-07-26T04:37:20.374Z"
    }
   },
   "cell_type": "code",
   "source": " np.all(score[0:2, :] > 60)",
   "id": "bd0e8f6b933c350c",
   "outputs": [
    {
     "data": {
      "text/plain": [
       "np.False_"
      ]
     },
     "execution_count": 26,
     "metadata": {},
     "output_type": "execute_result"
    }
   ],
   "execution_count": 26
  },
  {
   "metadata": {
    "ExecuteTime": {
     "end_time": "2025-07-26T04:37:40.128706Z",
     "start_time": "2025-07-26T04:37:40.118168Z"
    }
   },
   "cell_type": "code",
   "source": " np.any(score[0:2, :] > 80)",
   "id": "6aed07296d96223f",
   "outputs": [
    {
     "data": {
      "text/plain": [
       "np.True_"
      ]
     },
     "execution_count": 27,
     "metadata": {},
     "output_type": "execute_result"
    }
   ],
   "execution_count": 27
  },
  {
   "metadata": {
    "ExecuteTime": {
     "end_time": "2025-07-26T04:37:58.945031Z",
     "start_time": "2025-07-26T04:37:58.931747Z"
    }
   },
   "cell_type": "code",
   "source": [
    "# 判断前四名学生,前四门课程中，成绩中大于60的置为1，否则为0\n",
    "temp = score[:4, :4]\n",
    "np.where(temp > 60, 1, 0)"
   ],
   "id": "92ab2a9ef9fd27c1",
   "outputs": [
    {
     "data": {
      "text/plain": [
       "array([[1, 1, 1, 1],\n",
       "       [0, 1, 0, 1],\n",
       "       [1, 1, 1, 0],\n",
       "       [1, 0, 1, 1]])"
      ]
     },
     "execution_count": 28,
     "metadata": {},
     "output_type": "execute_result"
    }
   ],
   "execution_count": 28
  },
  {
   "metadata": {
    "ExecuteTime": {
     "end_time": "2025-07-26T04:38:33.114698Z",
     "start_time": "2025-07-26T04:38:33.103737Z"
    }
   },
   "cell_type": "code",
   "source": [
    "# 判断前四名学生,前四门课程中，成绩中大于60且小于90的换为1，否则为0\n",
    "np.where(np.logical_and(temp > 60, temp < 90), 1, 0)\n",
    "\n",
    "# 判断前四名学生,前四门课程中，成绩中大于90或小于60的换为1，否则为0\n",
    "np.where(np.logical_or(temp > 90, temp < 60), 1, 0)"
   ],
   "id": "7d2910b38d25007a",
   "outputs": [
    {
     "data": {
      "text/plain": [
       "array([[1, 0, 0, 0],\n",
       "       [1, 1, 1, 0],\n",
       "       [0, 0, 0, 1],\n",
       "       [0, 1, 0, 0]])"
      ]
     },
     "execution_count": 29,
     "metadata": {},
     "output_type": "execute_result"
    }
   ],
   "execution_count": 29
  },
  {
   "metadata": {
    "ExecuteTime": {
     "end_time": "2025-07-26T04:39:36.505989Z",
     "start_time": "2025-07-26T04:39:36.493101Z"
    }
   },
   "cell_type": "code",
   "source": [
    "# 接下来对于前四名学生,进行一些统计运算\n",
    "# 指定列 去统计\n",
    "temp = score[:4, 0:5]\n",
    "print(\"前四名学生,各科成绩的最大分：{}\".format(np.max(temp, axis=0)))\n",
    "print(\"前四名学生,各科成绩的最小分：{}\".format(np.min(temp, axis=0)))\n",
    "print(\"前四名学生,各科成绩波动情况：{}\".format(np.std(temp, axis=0)))\n",
    "print(\"前四名学生,各科成绩的平均分：{}\".format(np.mean(temp, axis=0)))"
   ],
   "id": "8a39f0f149490ae7",
   "outputs": [
    {
     "name": "stdout",
     "output_type": "stream",
     "text": [
      "前四名学生,各科成绩的最大分：[91 98 86 90 89]\n",
      "前四名学生,各科成绩的最小分：[56 57 59 55 42]\n",
      "前四名学生,各科成绩波动情况：[12.77693234 16.81331318  9.60143218 14.15980226 22.52221126]\n",
      "前四名学生,各科成绩的平均分：[71.5  76.75 73.25 74.   65.5 ]\n"
     ]
    }
   ],
   "execution_count": 30
  }
 ],
 "metadata": {
  "kernelspec": {
   "display_name": "Python 3",
   "language": "python",
   "name": "python3"
  },
  "language_info": {
   "codemirror_mode": {
    "name": "ipython",
    "version": 2
   },
   "file_extension": ".py",
   "mimetype": "text/x-python",
   "name": "python",
   "nbconvert_exporter": "python",
   "pygments_lexer": "ipython2",
   "version": "2.7.6"
  }
 },
 "nbformat": 4,
 "nbformat_minor": 5
}
