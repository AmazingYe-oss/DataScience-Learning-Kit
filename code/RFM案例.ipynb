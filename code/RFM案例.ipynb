{
 "cells": [
  {
   "cell_type": "code",
   "id": "initial_id",
   "metadata": {
    "collapsed": true,
    "ExecuteTime": {
     "end_time": "2025-07-26T06:04:34.095063Z",
     "start_time": "2025-07-26T06:04:34.068758Z"
    }
   },
   "source": [
    "import numpy as np\n",
    "import pandas as pd\n",
    "from docutils.parsers.rst.directives import encoding\n",
    "\n",
    "df_raw=pd.read_excel(r'C:\\Users\\YeShang\\Desktop\\数据分析基础工具\\data\\sales.xlsx',index_col='USERID')\n",
    "df_raw.head()"
   ],
   "outputs": [
    {
     "data": {
      "text/plain": [
       "        ORDERDATE  ORDERID  AMOUNTINFO\n",
       "USERID                                \n",
       "1      2023-05-01       11      1000.0\n",
       "2      2023-04-02       22      2000.0\n",
       "3      2023-04-03       33      3000.0\n",
       "4      2023-04-04       44      4000.0\n",
       "5      2023-04-05       55      5000.0"
      ],
      "text/html": [
       "<div>\n",
       "<style scoped>\n",
       "    .dataframe tbody tr th:only-of-type {\n",
       "        vertical-align: middle;\n",
       "    }\n",
       "\n",
       "    .dataframe tbody tr th {\n",
       "        vertical-align: top;\n",
       "    }\n",
       "\n",
       "    .dataframe thead th {\n",
       "        text-align: right;\n",
       "    }\n",
       "</style>\n",
       "<table border=\"1\" class=\"dataframe\">\n",
       "  <thead>\n",
       "    <tr style=\"text-align: right;\">\n",
       "      <th></th>\n",
       "      <th>ORDERDATE</th>\n",
       "      <th>ORDERID</th>\n",
       "      <th>AMOUNTINFO</th>\n",
       "    </tr>\n",
       "    <tr>\n",
       "      <th>USERID</th>\n",
       "      <th></th>\n",
       "      <th></th>\n",
       "      <th></th>\n",
       "    </tr>\n",
       "  </thead>\n",
       "  <tbody>\n",
       "    <tr>\n",
       "      <th>1</th>\n",
       "      <td>2023-05-01</td>\n",
       "      <td>11</td>\n",
       "      <td>1000.0</td>\n",
       "    </tr>\n",
       "    <tr>\n",
       "      <th>2</th>\n",
       "      <td>2023-04-02</td>\n",
       "      <td>22</td>\n",
       "      <td>2000.0</td>\n",
       "    </tr>\n",
       "    <tr>\n",
       "      <th>3</th>\n",
       "      <td>2023-04-03</td>\n",
       "      <td>33</td>\n",
       "      <td>3000.0</td>\n",
       "    </tr>\n",
       "    <tr>\n",
       "      <th>4</th>\n",
       "      <td>2023-04-04</td>\n",
       "      <td>44</td>\n",
       "      <td>4000.0</td>\n",
       "    </tr>\n",
       "    <tr>\n",
       "      <th>5</th>\n",
       "      <td>2023-04-05</td>\n",
       "      <td>55</td>\n",
       "      <td>5000.0</td>\n",
       "    </tr>\n",
       "  </tbody>\n",
       "</table>\n",
       "</div>"
      ]
     },
     "execution_count": 11,
     "metadata": {},
     "output_type": "execute_result"
    }
   ],
   "execution_count": 11
  },
  {
   "metadata": {
    "ExecuteTime": {
     "end_time": "2025-07-26T05:57:49.529268Z",
     "start_time": "2025-07-26T05:57:49.516933Z"
    }
   },
   "cell_type": "code",
   "source": [
    "#缺失值处理\n",
    "sales_data=df_raw.dropna()\n",
    "sales_data=sales_data[sales_data['AMOUNTINFO']>1]"
   ],
   "id": "958e07a861d9bc70",
   "outputs": [],
   "execution_count": 7
  },
  {
   "metadata": {
    "ExecuteTime": {
     "end_time": "2025-07-26T06:00:28.742475Z",
     "start_time": "2025-07-26T06:00:28.719045Z"
    }
   },
   "cell_type": "code",
   "source": [
    "# 数据转换 (按用户ID去重归总)\n",
    "recency_value = sales_data['ORDERDATE'].groupby(sales_data.index).max()  # 计算最近一次订单时间\n",
    "frequency_value = sales_data['ORDERDATE'].groupby(sales_data.index).count()  # 计算订单频率\n",
    "monetary_value = sales_data['AMOUNTINFO'].groupby(sales_data.index).sum()  # 计算订单总金额\n"
   ],
   "id": "17bcb515a99f62df",
   "outputs": [],
   "execution_count": 8
  },
  {
   "metadata": {
    "ExecuteTime": {
     "end_time": "2025-07-26T06:02:42.005223Z",
     "start_time": "2025-07-26T06:02:41.986452Z"
    }
   },
   "cell_type": "code",
   "source": [
    "# 分别计算 R, F, M 得分\n",
    "deadline_date = pd.to_datetime(\"2024-05-01\")  # 指定一个时间节点，用来计算其他时间和该时间的距离\n",
    "r_interval = (deadline_date - recency_value).dt.days  # 计算 R 间隔\n",
    "r_score = pd.cut(r_interval, 5, labels=[5, 4, 3, 2, 1])  # 计算 R 得分，五分位倒序\n",
    "f_score = pd.cut(frequency_value, 5, labels=[1, 2, 3, 4, 5])  # 计算 F 得分\n",
    "m_score = pd.cut(monetary_value, 5, labels=[1, 2, 3, 4, 5])  # 计算 M 得分"
   ],
   "id": "393dde8f1d07262d",
   "outputs": [],
   "execution_count": 9
  },
  {
   "metadata": {
    "ExecuteTime": {
     "end_time": "2025-07-26T06:04:38.415236Z",
     "start_time": "2025-07-26T06:04:38.402089Z"
    }
   },
   "cell_type": "code",
   "source": [
    "# R, F, M 数据合并\n",
    "rfm_list = [r_score, f_score, m_score]  # 将 R, F, M 三个维度组成列表\n",
    "rfm_cols = ['r_score', 'f_score', 'm_score']  # 设置 R, F, M 三个维度的列名\n",
    "rfm_pd = pd.DataFrame(np.array(rfm_list).transpose(), dtype=np.int32, columns=rfm_cols, index=frequency_value.index)  # 建立 R, F, M 数据框"
   ],
   "id": "e51cc79fd01aafa6",
   "outputs": [],
   "execution_count": 12
  },
  {
   "metadata": {
    "ExecuteTime": {
     "end_time": "2025-07-26T06:05:29.086872Z",
     "start_time": "2025-07-26T06:05:29.067142Z"
    }
   },
   "cell_type": "code",
   "source": [
    "# 策略2：RFM组合 直接输出三维度值\n",
    "rfm_pd_tmp = rfm_pd.copy()\n",
    "rfm_pd_tmp['r_score'] = rfm_pd_tmp['r_score'].astype('str')\n",
    "rfm_pd_tmp['f_score'] = rfm_pd_tmp['f_score'].astype('str')\n",
    "rfm_pd_tmp['m_score'] = rfm_pd_tmp['m_score'].astype('str')\n",
    "rfm_pd['rfm_comb'] = rfm_pd_tmp['r_score'].str.cat(rfm_pd_tmp['f_score']).str.cat(rfm_pd_tmp['m_score'])"
   ],
   "id": "40ae8483a1ef328b",
   "outputs": [],
   "execution_count": 13
  },
  {
   "metadata": {},
   "cell_type": "code",
   "outputs": [],
   "execution_count": null,
   "source": "",
   "id": "5a44fb3784e5a8da"
  },
  {
   "metadata": {
    "ExecuteTime": {
     "end_time": "2025-07-26T06:06:54.355492Z",
     "start_time": "2025-07-26T06:06:54.303735Z"
    }
   },
   "cell_type": "code",
   "source": [
    "import numpy as np\n",
    "import pandas as pd\n",
    "\n",
    "# 导入数据\n",
    "df_raw = pd.DataFrame(pd.read_excel(r'C:\\Users\\YeShang\\Desktop\\数据分析基础工具\\data\\sales.xlsx',index_col='USERID'))\n",
    "\n",
    "# 缺失值处理\n",
    "sales_data = df_raw.dropna() # 丢失带有缺失值NA的行记录\n",
    "sales_data = sales_data[sales_data['AMOUNTINFO'] > 1] # 丢弃订单金额<=1的记录\n",
    "\n",
    "# 数据转换 (按用户id去重归总)\n",
    "recency_value = sales_data['ORDERDATE'].groupby(sales_data.index).max() #计算最近一次订单时间\n",
    "frequency_value = sales_data['ORDERDATE'].groupby(sales_data.index).count() #计算订单频率\n",
    "monetary_value = sales_data['AMOUNTINFO'].groupby(sales_data.index).sum() #计算订单总金额\n",
    "\n",
    "# 分别计算R,F,M得分\n",
    "deadline_date = pd.to_datetime(\"2020-05-01\") #指定一个时间节点，用来计算其他时间和改时间的距离\n",
    "r_interval = (deadline_date - recency_value).dt.days #计算r间隔\n",
    "r_score = pd.cut(r_interval, 5, labels=[5,4,3,2,1]) # 计算r得分 五分位倒序\n",
    "f_score = pd.cut(frequency_value, 5, labels=[1,2,3,4,5]) # 计算f得分\n",
    "m_score = pd.cut(monetary_value, 5, labels=[1,2,3,4,5]) # 计算m得分\n",
    "\n",
    "# R,F,M数据合并\n",
    "rfm_list = [r_score, f_score, m_score] # 将R,F,M三个维度组成列表\n",
    "rfm_cols = ['r_score', 'f_score', 'm_score'] # 设置R,F,M三个维度的列名\n",
    "rfm_pd = pd.DataFrame(np.array(rfm_list).transpose(), dtype=np.int32, columns=rfm_cols, index=frequency_value.index) #建立R,F,M数据框\n",
    "\n",
    "#策略1：加权得分 定义用户价值\n",
    "rfm_pd['rfm_wscore'] = rfm_pd['r_score']*0.2 + rfm_pd['f_score']*0.2 + rfm_pd['m_score']*0.6"
   ],
   "id": "54a37d3c717cc9d8",
   "outputs": [],
   "execution_count": 14
  },
  {
   "metadata": {
    "ExecuteTime": {
     "end_time": "2025-07-26T06:07:05.286410Z",
     "start_time": "2025-07-26T06:07:05.276255Z"
    }
   },
   "cell_type": "code",
   "source": [
    "# 导出数据\n",
    "rfm_pd.to_csv('rfm_result.csv')"
   ],
   "id": "fa5997c5b688999f",
   "outputs": [],
   "execution_count": 15
  },
  {
   "metadata": {
    "ExecuteTime": {
     "end_time": "2025-07-26T06:07:24.711310Z",
     "start_time": "2025-07-26T06:07:23.690064Z"
    }
   },
   "cell_type": "code",
   "source": [
    "import matplotlib.pyplot as plt\n",
    "\n",
    "# 根据加权得分划分客户群体\n",
    "bins = [0, 2, 4, 5]  # 自定义分层阈值\n",
    "labels = ['Low', 'Medium', 'High']  # 分层标签\n",
    "rfm_pd['Customer Segment'] = pd.cut(rfm_pd['rfm_wscore'], bins=bins, labels=labels)\n",
    "\n",
    "# 绘制柱状图\n",
    "rfm_pd['Customer Segment'].value_counts().plot(kind='bar', color=['red', 'orange', 'green'])\n",
    "plt.title('Customer Segments based on RFM Score')\n",
    "plt.xlabel('Segment')\n",
    "plt.ylabel('Number of Customers')\n",
    "plt.show()"
   ],
   "id": "9062c507e4434a0",
   "outputs": [
    {
     "data": {
      "text/plain": [
       "<Figure size 640x480 with 1 Axes>"
      ],
      "image/png": "[encoded data removed]"
     },
     "metadata": {},
     "output_type": "display_data"
    }
   ],
   "execution_count": 16
  },
  {
   "metadata": {
    "ExecuteTime": {
     "end_time": "2025-07-26T06:07:42.703664Z",
     "start_time": "2025-07-26T06:07:42.608958Z"
    }
   },
   "cell_type": "code",
   "source": [
    "import matplotlib.pyplot as plt\n",
    "\n",
    "# 根据加权得分划分客户群体\n",
    "bins = [0, 2, 4, 5]  # 自定义分层阈值\n",
    "labels = ['Low', 'Medium', 'High']  # 分层标签\n",
    "rfm_pd['Customer Segment'] = pd.cut(rfm_pd['rfm_wscore'], bins=bins, labels=labels)\n",
    "\n",
    "# 绘制饼状图\n",
    "rfm_pd['Customer Segment'].value_counts().plot(kind='pie',\n",
    "                                               colors=['red', 'orange', 'green'],\n",
    "                                               autopct='%1.1f%%',  # 显示百分比\n",
    "                                               startangle=90,      # 旋转起始角度\n",
    "                                               counterclock=False) # 顺时针方向\n",
    "plt.title('Customer Segments based on RFM Score')\n",
    "plt.ylabel('')  # 隐藏Y轴标签\n",
    "plt.show()"
   ],
   "id": "81c52ac2a09000a1",
   "outputs": [
    {
     "data": {
      "text/plain": [
       "<Figure size 640x480 with 1 Axes>"
      ],
      "image/png": "[encoded data removed]"
     },
     "metadata": {},
     "output_type": "display_data"
    }
   ],
   "execution_count": 17
  }
 ],
 "metadata": {
  "kernelspec": {
   "display_name": "Python 3",
   "language": "python",
   "name": "python3"
  },
  "language_info": {
   "codemirror_mode": {
    "name": "ipython",
    "version": 2
   },
   "file_extension": ".py",
   "mimetype": "text/x-python",
   "name": "python",
   "nbconvert_exporter": "python",
   "pygments_lexer": "ipython2",
   "version": "2.7.6"
  }
 },
 "nbformat": 4,
 "nbformat_minor": 5
}
